{
  "nbformat": 4,
  "nbformat_minor": 0,
  "metadata": {
    "colab": {
      "private_outputs": true,
      "provenance": [],
      "collapsed_sections": [
        "w6K7xa23Elo4",
        "yQaldy8SH6Dl",
        "mDgbUHAGgjLW",
        "O_i_v8NEhb9l",
        "HhfV-JJviCcP",
        "Y3lxredqlCYt",
        "3RnN4peoiCZX",
        "x71ZqKXriCWQ",
        "7hBIi_osiCS2",
        "JlHwYmJAmNHm",
        "35m5QtbWiB9F",
        "PoPl-ycgm1ru",
        "H0kj-8xxnORC",
        "nA9Y7ga8ng1Z",
        "PBTbrJXOngz2",
        "u3PMJOP6ngxN",
        "dauF4eBmngu3",
        "bKJF3rekwFvQ",
        "MSa1f5Uengrz",
        "GF8Ens_Soomf",
        "0wOQAZs5pc--",
        "K5QZ13OEpz2H",
        "lQ7QKXXCp7Bj",
        "448CDAPjqfQr",
        "KSlN3yHqYklG",
        "t6dVpIINYklI",
        "ijmpgYnKYklI",
        "-JiQyfWJYklI",
        "EM7whBJCYoAo",
        "fge-S5ZAYoAp",
        "85gYPyotYoAp",
        "RoGjAbkUYoAp",
        "4Of9eVA-YrdM",
        "iky9q4vBYrdO",
        "F6T5p64dYrdO",
        "y-Ehk30pYrdP",
        "bamQiAODYuh1",
        "QHF8YVU7Yuh3",
        "GwzvFGzlYuh3",
        "qYpmQ266Yuh3",
        "OH-pJp9IphqM",
        "bbFf2-_FphqN",
        "_ouA3fa0phqN",
        "Seke61FWphqN",
        "PIIx-8_IphqN",
        "t27r6nlMphqO",
        "r2jJGEOYphqO",
        "b0JNsNcRphqO",
        "BZR9WyysphqO",
        "jj7wYXLtphqO",
        "eZrbJ2SmphqO",
        "rFu4xreNphqO",
        "YJ55k-q6phqO",
        "gCFgpxoyphqP",
        "OVtJsKN_phqQ",
        "lssrdh5qphqQ",
        "U2RJ9gkRphqQ",
        "1M8mcRywphqQ",
        "tgIPom80phqQ",
        "JMzcOPDDphqR",
        "x-EpHcCOp1ci",
        "X_VqEhTip1ck",
        "8zGJKyg5p1ck",
        "n3dbpmDWp1ck",
        "ylSl6qgtp1ck",
        "ZWILFDl5p1ck",
        "JcMwzZxoAimU",
        "8G2x9gOozGDZ",
        "gCX9965dhzqZ",
        "gIfDvo9L0UH2"
      ],
      "include_colab_link": true
    },
    "kernelspec": {
      "name": "python3",
      "display_name": "Python 3"
    },
    "language_info": {
      "name": "python"
    }
  },
  "cells": [
    {
      "cell_type": "markdown",
      "metadata": {
        "id": "view-in-github",
        "colab_type": "text"
      },
      "source": [
        "<a href=\"https://colab.research.google.com/github/Pankaj-km/Netflix-Movies-And-TV-Shows-Clustering-Unsupervised-EDA-/blob/main/Netflix_Movies_And_TV_Shows.ipynb\" target=\"_parent\"><img src=\"https://colab.research.google.com/assets/colab-badge.svg\" alt=\"Open In Colab\"/></a>"
      ]
    },
    {
      "cell_type": "markdown",
      "source": [
        "# **Project Name**    - Netflix Movies and TV Shows Clustering\n",
        "\n"
      ],
      "metadata": {
        "id": "vncDsAP0Gaoa"
      }
    },
    {
      "cell_type": "markdown",
      "source": [
        "##### **Project Type**    - Unsupervised\n",
        "##### **Contribution**    - Individual\n",
        "##### **Member Name -** Pankaj kumar Mahto"
      ],
      "metadata": {
        "id": "g4xbMg8oVZBF"
      }
    },
    {
      "cell_type": "markdown",
      "source": [
        "# **Project Summary -**"
      ],
      "metadata": {
        "id": "FJNUwmbgGyua"
      }
    },
    {
      "cell_type": "markdown",
      "source": [
        "Netflix Inc. is an American media company based in Los Gatos, California. Founded in 1997 by Reed Hastings and Marc Randolph in Scotts Valley, California, it operates the over-the-top subscription video on-demand service Netflix brand, which includes original films and television series commissioned or acquired by the company, and third-party content licensed from other distributors.\n",
        "\n",
        "\n",
        "This dataset consists of tv shows and movies available on Netflix. The dataset is collected from Flexible which is a third-party Netflix search engine. Netflix movies and TV shows clustering is a data analysis and machine learning technique that Netflix uses to group its content into similar categories. This technique involves analyzing the various characteristics of each title, such as genre, cast, and plot, and using algorithms to identify patterns and similarities. In essence, it's a set of algorithms using machine learning to analyze user data and movie ratings. To make it more effective, Netflix has set up 1,300 recommendation clusters based on users viewing preferences. Netflix's target market is young, tech-savvy users and anyone with digital connectivity. The audience of Netflix is from diverse age groups and demographics. However, most of the audience are teenagers, college-goers, entrepreneurs, working professionals, etc. Netflix's target consumers are divided into segments based on demographics, behavioural intents, and psychographic segmentation. Like most licensing agreements, the deal is structured in a traditional form, whereby Netflix pays for each film determined by rate cards on a sliding scale by each title's domestic or worldwide box office receipts. Netflix uses machine learning and algorithms to help break viewers' preconceived notions and find shows that they might not have initially chosen. To do this, it looks at nuanced threads within the content, rather than relying on broad genres to make its predictions.\n",
        "\n"
      ],
      "metadata": {
        "id": "F6v_1wHtG2nS"
      }
    },
    {
      "cell_type": "markdown",
      "source": [
        "# **GitHub Link -**"
      ],
      "metadata": {
        "id": "w6K7xa23Elo4"
      }
    },
    {
      "cell_type": "markdown",
      "source": [
        "https://github.com/Pankaj-km/Netflix-Movies-And-TV-Shows-Clustering-Unsupervised-EDA-"
      ],
      "metadata": {
        "id": "h1o69JH3Eqqn"
      }
    },
    {
      "cell_type": "markdown",
      "source": [
        "# **Problem Statement**\n"
      ],
      "metadata": {
        "id": "yQaldy8SH6Dl"
      }
    },
    {
      "cell_type": "markdown",
      "source": [
        "![image.png](data:image/png;base64,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)"
      ],
      "metadata": {
        "id": "DpeJGUA3kjGy"
      }
    },
    {
      "cell_type": "markdown",
      "source": [
        "This dataset consists of tv shows and movies available on Netflix as of 2019. The dataset is collected from Flixable which is a third-party Netflix search engine.\n",
        "\n",
        "In 2018, they released an interesting report which shows that the number of TV shows on Netflix has nearly tripled since 2010. The streaming service’s number of movies has decreased by more than 2,000 titles since 2010, while its number of TV shows has nearly tripled. It will be interesting to explore what all other insights can be obtained from the same dataset.\n",
        "\n",
        "Integrating this dataset with other external datasets such as IMDB ratings, rotten tomatoes can also provide many interesting findings."
      ],
      "metadata": {
        "id": "c-Q2x3BgH1_S"
      }
    },
    {
      "cell_type": "markdown",
      "source": [
        "# **General Guidelines** : -  "
      ],
      "metadata": {
        "id": "mDgbUHAGgjLW"
      }
    },
    {
      "cell_type": "markdown",
      "source": [
        "1.   Well-structured, formatted, and commented code is required.\n",
        "2.   Exception Handling, Production Grade Code & Deployment Ready Code will be a plus. Those students will be awarded some additional credits.\n",
        "     \n",
        "     The additional credits will have advantages over other students during Star Student selection.\n",
        "       \n",
        "             [ Note: - Deployment Ready Code is defined as, the whole .ipynb notebook should be executable in one go\n",
        "                       without a single error logged. ]\n",
        "\n",
        "3.   Each and every logic should have proper comments.\n",
        "4. You may add as many number of charts you want. Make Sure for each and every chart the following format should be answered.\n",
        "        \n",
        "\n",
        "```\n",
        "# Chart visualization code\n",
        "```\n",
        "            \n",
        "\n",
        "*   Why did you pick the specific chart?\n",
        "*   What is/are the insight(s) found from the chart?\n",
        "* Will the gained insights help creating a positive business impact?\n",
        "Are there any insights that lead to negative growth? Justify with specific reason.\n",
        "\n",
        "5. You have to create at least 20 logical & meaningful charts having important insights.\n",
        "\n",
        "\n",
        "[ Hints : - Do the Vizualization in  a structured way while following \"UBM\" Rule.\n",
        "\n",
        "U - Univariate Analysis,\n",
        "\n",
        "B - Bivariate Analysis (Numerical - Categorical, Numerical - Numerical, Categorical - Categorical)\n",
        "\n",
        "M - Multivariate Analysis\n",
        " ]\n",
        "\n",
        "\n",
        "\n"
      ],
      "metadata": {
        "id": "ZrxVaUj-hHfC"
      }
    },
    {
      "cell_type": "markdown",
      "source": [
        "# ***Let's Begin !***"
      ],
      "metadata": {
        "id": "O_i_v8NEhb9l"
      }
    },
    {
      "cell_type": "markdown",
      "source": [
        "## ***1. Know Your Data***"
      ],
      "metadata": {
        "id": "HhfV-JJviCcP"
      }
    },
    {
      "cell_type": "markdown",
      "source": [
        "### Import Libraries"
      ],
      "metadata": {
        "id": "Y3lxredqlCYt"
      }
    },
    {
      "cell_type": "code",
      "source": [
        "# Import Libraries\n",
        "import numpy as np\n",
        "import pandas as pd\n",
        "import matplotlib.pyplot as plt\n",
        "import seaborn as sns\n",
        "import missingno as msno\n",
        "import matplotlib.cm as cm\n",
        "\n",
        "from os import path\n",
        "from PIL import Image\n",
        "from wordcloud import WordCloud, STOPWORDS, ImageColorGenerator\n",
        "\n",
        "\n",
        "#for nlp\n",
        "from sklearn import preprocessing\n",
        "from sklearn.feature_extraction.text import CountVectorizer, TfidfVectorizer\n",
        "from sklearn.model_selection import train_test_split, KFold\n",
        "from nltk.corpus import stopwords\n",
        "from nltk.stem.snowball import SnowballStemmer\n",
        "\n",
        "from sklearn.metrics import silhouette_score\n",
        "from sklearn.cluster import KMeans\n",
        "from sklearn.metrics import silhouette_samples\n",
        "import scipy.cluster.hierarchy as sch\n",
        "\n",
        "\n",
        "import warnings\n",
        "warnings.filterwarnings('ignore')"
      ],
      "metadata": {
        "id": "M8Vqi-pPk-HR"
      },
      "execution_count": null,
      "outputs": []
    },
    {
      "cell_type": "markdown",
      "source": [
        "### Dataset Loading"
      ],
      "metadata": {
        "id": "3RnN4peoiCZX"
      }
    },
    {
      "cell_type": "code",
      "source": [
        "# Load Dataset\n",
        "from google.colab import drive\n",
        "drive.mount('/content/drive')"
      ],
      "metadata": {
        "id": "4CkvbW_SlZ_R"
      },
      "execution_count": null,
      "outputs": []
    },
    {
      "cell_type": "code",
      "source": [
        "working_path = \"/content/drive/MyDrive/Netflix/NETFLIX MOVIES AND TV SHOWS CLUSTERING.csv\"\n",
        "df = pd.read_csv(working_path)\n"
      ],
      "metadata": {
        "id": "RffIMxkyJT1T"
      },
      "execution_count": null,
      "outputs": []
    },
    {
      "cell_type": "markdown",
      "source": [
        "### Dataset First View"
      ],
      "metadata": {
        "id": "x71ZqKXriCWQ"
      }
    },
    {
      "cell_type": "code",
      "source": [
        "# Dataset First Look\n",
        "df.head()"
      ],
      "metadata": {
        "id": "LWNFOSvLl09H"
      },
      "execution_count": null,
      "outputs": []
    },
    {
      "cell_type": "markdown",
      "source": [
        "### Dataset Rows & Columns count"
      ],
      "metadata": {
        "id": "7hBIi_osiCS2"
      }
    },
    {
      "cell_type": "code",
      "source": [
        "# Dataset Rows & Columns count\n",
        "df.shape"
      ],
      "metadata": {
        "id": "Kllu7SJgmLij"
      },
      "execution_count": null,
      "outputs": []
    },
    {
      "cell_type": "markdown",
      "source": [
        "### Dataset Information"
      ],
      "metadata": {
        "id": "JlHwYmJAmNHm"
      }
    },
    {
      "cell_type": "code",
      "source": [
        "# Dataset Info\n",
        "df.info()"
      ],
      "metadata": {
        "id": "e9hRXRi6meOf"
      },
      "execution_count": null,
      "outputs": []
    },
    {
      "cell_type": "markdown",
      "source": [
        "#### Duplicate Values"
      ],
      "metadata": {
        "id": "35m5QtbWiB9F"
      }
    },
    {
      "cell_type": "code",
      "source": [
        "# Dataset Duplicate Value Count\n",
        "duplicate_values = df.duplicated().value_counts()\n",
        "duplicate_values"
      ],
      "metadata": {
        "id": "1sLdpKYkmox0"
      },
      "execution_count": null,
      "outputs": []
    },
    {
      "cell_type": "markdown",
      "source": [
        "#### Missing Values/Null Values"
      ],
      "metadata": {
        "id": "PoPl-ycgm1ru"
      }
    },
    {
      "cell_type": "code",
      "source": [
        "# Missing Values/Null Values Count\n",
        "missing_value = df.isna().sum().sort_values(ascending=False)[:4]\n",
        "missing_value"
      ],
      "metadata": {
        "id": "GgHWkxvamxVg"
      },
      "execution_count": null,
      "outputs": []
    },
    {
      "cell_type": "code",
      "source": [
        "# Visualizing the missing values\n",
        "sns.heatmap(df.isnull(), cbar=False)"
      ],
      "metadata": {
        "id": "3q5wnI3om9sJ"
      },
      "execution_count": null,
      "outputs": []
    },
    {
      "cell_type": "markdown",
      "source": [
        "### What did you know about your dataset?"
      ],
      "metadata": {
        "id": "H0kj-8xxnORC"
      }
    },
    {
      "cell_type": "markdown",
      "source": [
        "* The Netflix dataset consists of tv shows and movies available on Netflix as of 2019.\n",
        "* There are 7787 rows and 12 columns provided in the data.\n",
        "* Null values are present in director, cast, country, date_added, and rating; Since there are only few null values present in date_added and rating (10 & 7 respectively) we will remove them from the data.\n",
        "* No duplicate values exist."
      ],
      "metadata": {
        "id": "gfoNAAC-nUe_"
      }
    },
    {
      "cell_type": "markdown",
      "source": [
        "## ***2. Understanding Your Variables***"
      ],
      "metadata": {
        "id": "nA9Y7ga8ng1Z"
      }
    },
    {
      "cell_type": "code",
      "source": [
        "# Dataset Columns\n",
        "df.columns"
      ],
      "metadata": {
        "id": "j7xfkqrt5Ag5"
      },
      "execution_count": null,
      "outputs": []
    },
    {
      "cell_type": "code",
      "source": [
        "# Dataset Describe\n",
        "df.describe(include= 'all').round(2)"
      ],
      "metadata": {
        "id": "DnOaZdaE5Q5t"
      },
      "execution_count": null,
      "outputs": []
    },
    {
      "cell_type": "markdown",
      "source": [
        "### Variables Description"
      ],
      "metadata": {
        "id": "PBTbrJXOngz2"
      }
    },
    {
      "cell_type": "markdown",
      "source": [
        "### <b> The dataset contains movies and tv shows information (show id, type, title, director, release year, rating, duration etc.).</b>\n",
        "\n",
        "\n",
        "<b>Attribute Information : </b>\n",
        "\n",
        "- **show_id**: Unique Id number for all the listed rows\n",
        "\n",
        "- **type**: denotes type of show namely TV Show or Movie\n",
        "\n",
        "- **title**: title of the movie\n",
        "\n",
        "- **director**: Name of director/directors\n",
        "\n",
        "- **cast**: lists the cast of the movie\n",
        "\n",
        "- **country**: country of the production house\n",
        "\n",
        "- **date_added**: the date the show was added\n",
        "\n",
        "- **release_year**: year of the release of the show\n",
        "\n",
        "- **rating**: show ratings\n",
        "\n",
        "- **duration**: duration of the show\n",
        "\n",
        "- **listed_in**: the genre of the show\n",
        "\n",
        "- **description**: summary/ description of the movie\n"
      ],
      "metadata": {
        "id": "aJV4KIxSnxay"
      }
    },
    {
      "cell_type": "markdown",
      "source": [
        "### Check Unique Values for each variable."
      ],
      "metadata": {
        "id": "u3PMJOP6ngxN"
      }
    },
    {
      "cell_type": "code",
      "source": [
        "# Check Unique Values for each variable.\n",
        "for i in df.columns.tolist():\n",
        "  print(\"No. of unique values in\",i,\"is\",df[i].nunique())"
      ],
      "metadata": {
        "id": "zms12Yq5n-jE"
      },
      "execution_count": null,
      "outputs": []
    },
    {
      "cell_type": "markdown",
      "source": [
        "## 3. ***Data Wrangling***"
      ],
      "metadata": {
        "id": "dauF4eBmngu3"
      }
    },
    {
      "cell_type": "markdown",
      "source": [
        "### Data Wrangling Code"
      ],
      "metadata": {
        "id": "bKJF3rekwFvQ"
      }
    },
    {
      "cell_type": "code",
      "source": [
        "# Write your code to make your dataset analysis ready.\n",
        "df=df.copy()\n",
        "df"
      ],
      "metadata": {
        "id": "wk-9a2fpoLcV"
      },
      "execution_count": null,
      "outputs": []
    },
    {
      "cell_type": "markdown",
      "source": [
        "### What all manipulations have you done and insights you found?"
      ],
      "metadata": {
        "id": "MSa1f5Uengrz"
      }
    },
    {
      "cell_type": "markdown",
      "source": [
        "To make the data analysis ready i have done the following:\n",
        "1. Filled missing values of cast with Not available.\n",
        "2. Filled missing values of country with Not Known.\n",
        "3. Dropped rows of date_added missing values.\n",
        "4. Dropped rows of ratings missing values.\n",
        "5. Dropped the entire column of director as it had much number of missing values."
      ],
      "metadata": {
        "id": "LbyXE7I1olp8"
      }
    },
    {
      "cell_type": "markdown",
      "source": [
        "## ***4. Data Vizualization, Storytelling & Experimenting with charts : Understand the relationships between variables***"
      ],
      "metadata": {
        "id": "GF8Ens_Soomf"
      }
    },
    {
      "cell_type": "markdown",
      "source": [
        "#### Chart - 1"
      ],
      "metadata": {
        "id": "0wOQAZs5pc--"
      }
    },
    {
      "cell_type": "code",
      "source": [
        "# Chart - 1 Pie Chart Visualization Code For Movie vs TV Show Share\n",
        "spread = df['type'].value_counts()\n",
        "plt.rcParams['figure.figsize'] = (5,5)\n",
        "\n",
        "# Set Labels\n",
        "spread.plot(kind = 'pie', autopct='%1.2f%%', cmap='Set1')\n",
        "plt.title(f'Movie vs TV Show share')\n",
        "plt.show()"
      ],
      "metadata": {
        "id": "7v_ESjsspbW7"
      },
      "execution_count": null,
      "outputs": []
    },
    {
      "cell_type": "markdown",
      "source": [
        "##### 1. Why did you pick the specific chart?"
      ],
      "metadata": {
        "id": "K5QZ13OEpz2H"
      }
    },
    {
      "cell_type": "markdown",
      "source": [
        "A pie chart expresses a part-to-whole relationship in your data. It's easy to explain the percentage comparison through area covered in a circle with different colors. Wherever different percentage comparison comes into action, pie chart is used frequently. So, i have used Pie Chart and which helped us to get the percentage comparison more clearly and precisely."
      ],
      "metadata": {
        "id": "XESiWehPqBRc"
      }
    },
    {
      "cell_type": "markdown",
      "source": [
        "##### 2. What is/are the insight(s) found from the chart?"
      ],
      "metadata": {
        "id": "lQ7QKXXCp7Bj"
      }
    },
    {
      "cell_type": "markdown",
      "source": [
        "From the above chart, we got to know that the types of shows available in netflix is not even with high count for TV shows. 69.14% of the data belongs to movies and 30.86% of the data for TV shows."
      ],
      "metadata": {
        "id": "C_j1G7yiqdRP"
      }
    },
    {
      "cell_type": "markdown",
      "source": [
        "##### 3. Will the gained insights help creating a positive business impact?\n",
        "Are there any insights that lead to negative growth? Justify with specific reason."
      ],
      "metadata": {
        "id": "448CDAPjqfQr"
      }
    },
    {
      "cell_type": "markdown",
      "source": [
        "The insights gained from the chart can potentially create a positive business impact by providing valuable information for decision-making. Understanding the distribution of categories in various columns helps identify patterns and target specific demographics or areas of focus. For example, businesses can develop tailored marketing campaigns based on the types of shows most watched by the audience."
      ],
      "metadata": {
        "id": "3cspy4FjqxJW"
      }
    },
    {
      "cell_type": "markdown",
      "source": [
        "#### Chart - 2"
      ],
      "metadata": {
        "id": "KSlN3yHqYklG"
      }
    },
    {
      "cell_type": "code",
      "source": [
        "# Chart - 2 Count Plot Visualization Code for Various Ratings of Shows\n",
        "import seaborn as sns\n",
        "import pandas as pd\n",
        "\n",
        "sns.barplot(x='rating', y='type', data=df, palette=['#564d4d', '#db0000'])\n",
        "\n",
        "plt.title('Counts of Various Ratings')\n",
        "plt.xlabel('Ratings')\n",
        "plt.xticks(rotation = 60)\n",
        "\n",
        "\n",
        "plt.show()\n",
        "\n",
        "print('Each Rating Counts for Different Types of Shows:')\n",
        "print(df.groupby(['rating', 'type']).size())"
      ],
      "metadata": {
        "id": "R4YgtaqtYklH"
      },
      "execution_count": null,
      "outputs": []
    },
    {
      "cell_type": "markdown",
      "source": [
        "##### 1. Why did you pick the specific chart?"
      ],
      "metadata": {
        "id": "t6dVpIINYklI"
      }
    },
    {
      "cell_type": "markdown",
      "source": [
        "Bar charts are used to compare the size or frequency of different categories or groups of data. Bar charts are useful for comparing data across different categories, and they can be used to display a large amount of data in a small space."
      ],
      "metadata": {
        "id": "5aaW0BYyYklI"
      }
    },
    {
      "cell_type": "markdown",
      "source": [
        "##### 2. What is/are the insight(s) found from the chart?"
      ],
      "metadata": {
        "id": "ijmpgYnKYklI"
      }
    },
    {
      "cell_type": "markdown",
      "source": [
        "From above count plot we can clearly see that the most of the ratings are given by TV-MA followed by TV-14 and the least ratings are given by NC-17."
      ],
      "metadata": {
        "id": "PSx9atu2YklI"
      }
    },
    {
      "cell_type": "markdown",
      "source": [
        "##### 3. Will the gained insights help creating a positive business impact?\n",
        "Are there any insights that lead to negative growth? Justify with specific reason."
      ],
      "metadata": {
        "id": "-JiQyfWJYklI"
      }
    },
    {
      "cell_type": "markdown",
      "source": [
        "***Each TV show and movie on Netflix is assigned a maturity rating to help members make informed choices for themselves and their children. Netflix determines maturity ratings by the frequency and impact of mature content in a TV show or movie. TV show ratings reflect the overall maturity level of the whole series.***\n",
        "\n",
        "\n",
        "![image.png](data:image/png;base64,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)\n",
        "\n",
        "\n",
        "\n",
        "Yes, from above insight we got to know:\n",
        "\n",
        "* TV-MA tops the charts, indicating that mature content is more popular on Netflix.\n",
        "* This popularity is followed by TV-14 and TV-PG, which are Shows focused on Teens and Older kids.\n",
        "* Very few titles with a rating NC-17 exist. It can be understood since this type of content is purely for the audience above 17."
      ],
      "metadata": {
        "id": "BcBbebzrYklV"
      }
    },
    {
      "cell_type": "markdown",
      "source": [
        "#### Chart - 3"
      ],
      "metadata": {
        "id": "EM7whBJCYoAo"
      }
    },
    {
      "cell_type": "code",
      "source": [
        "# Chart - 3\n",
        "country_df = df[df['country'] != 'Not Known']\n",
        "\n",
        "\n",
        "plt.figure(figsize=(10, 5))\n",
        "sns.countplot(y='country', hue='type', data=country_df, palette=['#564d4d', '#db0000'], order=country_df.country.value_counts().iloc[:10].index)\n",
        "plt.title('Top Ten Countries With Most Content')\n",
        "plt.ylabel('Country')\n",
        "plt.show()\n",
        "\n",
        "print('Number of Shows Produced by Top 10 Countries:')\n",
        "print(country_df.groupby(['type']).country.value_counts().groupby(level=0, group_keys=False).head(10))"
      ],
      "metadata": {
        "id": "t6GMdE67YoAp"
      },
      "execution_count": null,
      "outputs": []
    },
    {
      "cell_type": "markdown",
      "source": [
        "##### 1. Why did you pick the specific chart?"
      ],
      "metadata": {
        "id": "fge-S5ZAYoAp"
      }
    },
    {
      "cell_type": "markdown",
      "source": [
        "Bar charts are used to compare the size or frequency of different categories or groups of data. Bar charts are useful for comparing data across different categories, and they can be used to display a large amount of data in a small space."
      ],
      "metadata": {
        "id": "5dBItgRVYoAp"
      }
    },
    {
      "cell_type": "markdown",
      "source": [
        "##### 2. What is/are the insight(s) found from the chart?"
      ],
      "metadata": {
        "id": "85gYPyotYoAp"
      }
    },
    {
      "cell_type": "markdown",
      "source": [
        "From above count plot we found that the content belongs to United States alone is 2546 (Movie: 1847, TV Show: 699) and followed by India is 923 (Movie: 852, TV Show: 71)."
      ],
      "metadata": {
        "id": "4jstXR6OYoAp"
      }
    },
    {
      "cell_type": "markdown",
      "source": [
        "##### 3. Will the gained insights help creating a positive business impact?\n",
        "Are there any insights that lead to negative growth? Justify with specific reason."
      ],
      "metadata": {
        "id": "RoGjAbkUYoAp"
      }
    },
    {
      "cell_type": "markdown",
      "source": [
        "Yes, from above insight we got to know:\n",
        "* The United States is a leading producer of both types of shows (Movies and TV Shows), this makes sense since Netflix is a US company.\n",
        "\n",
        "* The influence of Bollywood in India explains the type of content available, and perhaps the main focus of this industry is Movies and not TV Shows.\n",
        "\n",
        "* On the other hand, TV Shows are more frequent in South Korea, which explains the KDrama culture nowadays."
      ],
      "metadata": {
        "id": "zfJ8IqMcYoAp"
      }
    },
    {
      "cell_type": "markdown",
      "source": [
        "#### Chart - 4"
      ],
      "metadata": {
        "id": "4Of9eVA-YrdM"
      }
    },
    {
      "cell_type": "code",
      "source": [
        "# Chart - 4 visualization code\n",
        "release_year_df = df[['type','release_year']]\n",
        "movie_year = release_year_df[release_year_df['type']=='Movie'].release_year.value_counts().to_frame().reset_index().rename(columns={'index':'year','release_year':'count'})\n",
        "\n",
        "show_year = release_year_df[release_year_df['type']=='TV Show'].release_year.value_counts().to_frame().reset_index().rename(columns={'index':'year','release_year':'count'})\n",
        "\n",
        "fig, ax = plt.subplots(figsize=(10, 5))\n",
        "sns.lineplot(data=movie_year, x='year', y='count', color = '#db0000')\n",
        "sns.lineplot(data=show_year, x='year', y='count', color = '#564d4d')\n",
        "\n",
        "plt.title('Content Released Over The Years')\n",
        "plt.legend(['Movie','TV Show'])\n",
        "plt.xlabel('Release Year')\n",
        "plt.ylabel('Count')\n",
        "plt.show()\n",
        "\n",
        "print('Number of Shows Released in Each Year:')\n",
        "print(df.groupby(['type']).release_year.value_counts().groupby(level=0, group_keys=False).head(10))"
      ],
      "metadata": {
        "id": "irlUoxc8YrdO"
      },
      "execution_count": null,
      "outputs": []
    },
    {
      "cell_type": "markdown",
      "source": [
        "##### 1. Why did you pick the specific chart?"
      ],
      "metadata": {
        "id": "iky9q4vBYrdO"
      }
    },
    {
      "cell_type": "markdown",
      "source": [
        "A line plot, also known as a line chart or line graph, is a way to visualize the trend of a single variable over time. It uses a series of data points connected by a line to show how the value of the variable changes over time.\n",
        "\n",
        "Line plots are useful because they can quickly and easily show trends and patterns in the data. They are particularly useful for showing how a variable changes over a period of time. They are also useful for comparing the trends of multiple variables.\n",
        "\n",
        "To see how the different contents are released over the years i have used line plot here."
      ],
      "metadata": {
        "id": "aJRCwT6DYrdO"
      }
    },
    {
      "cell_type": "markdown",
      "source": [
        "##### 2. What is/are the insight(s) found from the chart?"
      ],
      "metadata": {
        "id": "F6T5p64dYrdO"
      }
    },
    {
      "cell_type": "markdown",
      "source": [
        "From above graph, it is observed that most of the content on netflix are of the release date from 2010 to 2020."
      ],
      "metadata": {
        "id": "Xx8WAJvtYrdO"
      }
    },
    {
      "cell_type": "markdown",
      "source": [
        "##### 3. Will the gained insights help creating a positive business impact?\n",
        "Are there any insights that lead to negative growth? Justify with specific reason."
      ],
      "metadata": {
        "id": "y-Ehk30pYrdP"
      }
    },
    {
      "cell_type": "markdown",
      "source": [
        "From the above insight we got to know:\n",
        "* Growth in the number of movies on Netflix is much higher than tv shows.\n",
        "* Most of the content available was released between 2010 and 2020.\n",
        "* The highest number of movies got released in 2017 and 2018 and tv shows got released in 2019 and 2020.\n",
        "* The line plot shows very few movies, and tv shows got released before the year 2010 and in 2021. It is due to very little data collected from the year 2021."
      ],
      "metadata": {
        "id": "jLNxxz7MYrdP"
      }
    },
    {
      "cell_type": "markdown",
      "source": [
        "#### Chart - 5"
      ],
      "metadata": {
        "id": "bamQiAODYuh1"
      }
    },
    {
      "cell_type": "code",
      "source": [
        "# Chart - 5 visualization code\n",
        "df['month_added'] = pd.DatetimeIndex(df['date_added']).month\n",
        "\n",
        "months_df = df.month_added.value_counts().to_frame().reset_index().rename(columns={'index':'month', 'month_added':'count'})\n",
        "\n",
        "plt.figure(figsize=(10, 5))\n",
        "ax=sns.barplot(data=months_df, x='month', y='count', palette='Reds_r')\n",
        "\n",
        "plt.title('Month Wise Addition of Contents')\n",
        "plt.xlabel('Month')\n",
        "for i in ax.patches:\n",
        "    ax.annotate(f'{i.get_height()}', (i.get_x() + i.get_width() / 2., i.get_height()), ha = 'center', va = 'center', xytext = (0, 6), textcoords = 'offset points')\n",
        "\n",
        "plt.show()"
      ],
      "metadata": {
        "id": "TIJwrbroYuh3"
      },
      "execution_count": null,
      "outputs": []
    },
    {
      "cell_type": "markdown",
      "source": [
        "##### 1. Why did you pick the specific chart?"
      ],
      "metadata": {
        "id": "QHF8YVU7Yuh3"
      }
    },
    {
      "cell_type": "markdown",
      "source": [
        "Bar charts are used to compare the size or frequency of different categories or groups of data. Bar charts are useful for comparing data across different categories, and they can be used to display a large amount of data in a small space."
      ],
      "metadata": {
        "id": "dcxuIMRPYuh3"
      }
    },
    {
      "cell_type": "markdown",
      "source": [
        "##### 2. What is/are the insight(s) found from the chart?"
      ],
      "metadata": {
        "id": "GwzvFGzlYuh3"
      }
    },
    {
      "cell_type": "markdown",
      "source": [
        "From above graph, it is observed that most of the shows are uploaded either by year ending or beginning."
      ],
      "metadata": {
        "id": "uyqkiB8YYuh3"
      }
    },
    {
      "cell_type": "markdown",
      "source": [
        "##### 3. Will the gained insights help creating a positive business impact?\n",
        "Are there any insights that lead to negative growth? Justify with specific reason."
      ],
      "metadata": {
        "id": "qYpmQ266Yuh3"
      }
    },
    {
      "cell_type": "markdown",
      "source": [
        "From the above insight we got to know:\n",
        "* October, November, December, and January are months in which many tv shows and movies get uploaded to the platform.\n",
        "* It might be due to the winter, as in these months people may stay at home and watch tv shows and movies in their free time."
      ],
      "metadata": {
        "id": "_WtzZ_hCYuh4"
      }
    },
    {
      "cell_type": "markdown",
      "source": [
        "#### Chart - 6"
      ],
      "metadata": {
        "id": "OH-pJp9IphqM"
      }
    },
    {
      "cell_type": "code",
      "source": [
        "# Chart - 6 visualization code\n",
        "df_movies = df[df['type']=='Movie'].copy()\n",
        "df_movies.duration = df_movies.duration.str.replace(' min','').astype(int)\n",
        "\n",
        "plt.figure(figsize=(8,4), dpi=120)\n",
        "sns.set(style=\"darkgrid\")\n",
        "sns.histplot(df_movies.duration, color='#db0000')\n",
        "plt.xticks(np.arange(0,360,30))\n",
        "\n",
        "# Set Labels\n",
        "plt.title(\"Duration Distribution for Netflix Movies\")\n",
        "plt.ylabel(\"% of All Netflix Movies\", fontsize=9)\n",
        "plt.xlabel(\"Duration (minutes)\", fontsize=9)\n",
        "\n",
        "# Display Chart\n",
        "plt.show()"
      ],
      "metadata": {
        "id": "kuRf4wtuphqN"
      },
      "execution_count": null,
      "outputs": []
    },
    {
      "cell_type": "markdown",
      "source": [
        "##### 1. Why did you pick the specific chart?"
      ],
      "metadata": {
        "id": "bbFf2-_FphqN"
      }
    },
    {
      "cell_type": "markdown",
      "source": [
        "A histplot is a type of chart that displays the distribution of a dataset. It is a graphical representation of the data that shows how often each value or group of values occurs. Histplots are useful for understanding the distribution of a dataset and identifying patterns or trends in the data. It is also useful when dealing with large data sets (greater than 100 observations). It can help detect any unusual observations (outliers) or any gaps in the data.\n",
        "\n",
        "Thus, I used the histogram plot to analysis the duration distributions for the netflix movies."
      ],
      "metadata": {
        "id": "loh7H2nzphqN"
      }
    },
    {
      "cell_type": "markdown",
      "source": [
        "##### 2. What is/are the insight(s) found from the chart?"
      ],
      "metadata": {
        "id": "_ouA3fa0phqN"
      }
    },
    {
      "cell_type": "markdown",
      "source": [
        "From the above chart we come to know that most of the movies last for 90 to 120 minutes."
      ],
      "metadata": {
        "id": "VECbqPI7phqN"
      }
    },
    {
      "cell_type": "markdown",
      "source": [
        "##### 3. Will the gained insights help creating a positive business impact?\n",
        "Are there any insights that lead to negative growth? Justify with specific reason."
      ],
      "metadata": {
        "id": "Seke61FWphqN"
      }
    },
    {
      "cell_type": "markdown",
      "source": [
        "From the above insight we got to know:\n",
        "\n",
        "*  On netflix most of the movies last for 90 to 120 minutes.\n",
        "*  So for target audience, movies duration will be greater than minimum 90 minutes.\n"
      ],
      "metadata": {
        "id": "DW4_bGpfphqN"
      }
    },
    {
      "cell_type": "markdown",
      "source": [
        "#### Chart - 7"
      ],
      "metadata": {
        "id": "PIIx-8_IphqN"
      }
    },
    {
      "cell_type": "code",
      "source": [
        "# Chart - 7 visualization code\n",
        "\n",
        "comment_words = ''\n",
        "\n",
        "stopwords = set(STOPWORDS)\n",
        "\n",
        "for val in df.title:\n",
        "\n",
        "    val = str(val)\n",
        "\n",
        "    tokens = val.split()\n",
        "\n",
        "    for i in range(len(tokens)):\n",
        "        tokens[i] = tokens[i].lower()\n",
        "\n",
        "    comment_words += \" \".join(tokens)+\" \"\n",
        "\n",
        "wordcloud = WordCloud(width = 1000, height = 500,\n",
        "                background_color ='white',\n",
        "                stopwords = stopwords,\n",
        "                min_font_size = 10,\n",
        "                max_words = 1000,\n",
        "                colormap = 'gist_heat_r').generate(comment_words)\n",
        "\n",
        "plt.figure(figsize = (6,6), facecolor = None)\n",
        "plt.title('Most Used Words In Shows Title', fontsize = 15, pad=20)\n",
        "plt.imshow(wordcloud)\n",
        "plt.axis(\"off\")\n",
        "plt.tight_layout(pad = 0)\n",
        "\n",
        "plt.show()"
      ],
      "metadata": {
        "id": "lqAIGUfyphqO"
      },
      "execution_count": null,
      "outputs": []
    },
    {
      "cell_type": "markdown",
      "source": [
        "##### 1. Why did you pick the specific chart?"
      ],
      "metadata": {
        "id": "t27r6nlMphqO"
      }
    },
    {
      "cell_type": "markdown",
      "source": [
        "The word cloud graphic is a visual representation that supplements a section of text to help readers better understand an idea or approach a subject from a different angle. A word cloud shows off trends."
      ],
      "metadata": {
        "id": "iv6ro40sphqO"
      }
    },
    {
      "cell_type": "markdown",
      "source": [
        "##### 2. What is/are the insight(s) found from the chart?"
      ],
      "metadata": {
        "id": "r2jJGEOYphqO"
      }
    },
    {
      "cell_type": "markdown",
      "source": [
        "From above word cloud plot, it is observed that most repeated words in title include Christmas, Love, World, Man, and Story."
      ],
      "metadata": {
        "id": "Po6ZPi4hphqO"
      }
    },
    {
      "cell_type": "markdown",
      "source": [
        "##### 3. Will the gained insights help creating a positive business impact?\n",
        "Are there any insights that lead to negative growth? Justify with specific reason."
      ],
      "metadata": {
        "id": "b0JNsNcRphqO"
      }
    },
    {
      "cell_type": "markdown",
      "source": [
        "From the above insight we got to know:\n",
        "* Most repeated words in title include Christmas, Love, World, Man, and Story.\n",
        "* We saw that most of the movies and tv shows got added during the winters, which tells why Christmas appeared many times in the titles."
      ],
      "metadata": {
        "id": "xvSq8iUTphqO"
      }
    },
    {
      "cell_type": "markdown",
      "source": [
        "#### Chart - 8"
      ],
      "metadata": {
        "id": "BZR9WyysphqO"
      }
    },
    {
      "cell_type": "code",
      "source": [
        "# Chart - 8 visualization code\n",
        "genres = df.set_index('title').listed_in.str.split(', ', expand=True).stack().reset_index(level=1, drop=True);\n",
        "\n",
        "plt.figure(figsize=(10,5))\n",
        "g = sns.countplot(y = genres, palette = \"Greens_r\")\n",
        "plt.title('Top 10 Genres on Netflix')\n",
        "\n",
        "plt.show()"
      ],
      "metadata": {
        "id": "TdPTWpAVphqO"
      },
      "execution_count": null,
      "outputs": []
    },
    {
      "cell_type": "markdown",
      "source": [
        "##### 1. Why did you pick the specific chart?"
      ],
      "metadata": {
        "id": "jj7wYXLtphqO"
      }
    },
    {
      "cell_type": "markdown",
      "source": [
        "Bar charts are used to compare the size or frequency of different categories or groups of data. Bar charts are useful for comparing data across different categories, and they can be used to display a large amount of data in a small space."
      ],
      "metadata": {
        "id": "Ob8u6rCTphqO"
      }
    },
    {
      "cell_type": "markdown",
      "source": [
        "##### 2. What is/are the insight(s) found from the chart?"
      ],
      "metadata": {
        "id": "eZrbJ2SmphqO"
      }
    },
    {
      "cell_type": "markdown",
      "source": [
        "From above graph, it is observed that international movies is in top in terms of genre and followed by dramas and comedies."
      ],
      "metadata": {
        "id": "mZtgC_hjphqO"
      }
    },
    {
      "cell_type": "markdown",
      "source": [
        "##### 3. Will the gained insights help creating a positive business impact?\n",
        "Are there any insights that lead to negative growth? Justify with specific reason."
      ],
      "metadata": {
        "id": "rFu4xreNphqO"
      }
    },
    {
      "cell_type": "markdown",
      "source": [
        "From the above insight we got to know:\n",
        "* In terms of genres, international movies takes the cake surprisingly followed by dramas and comedies.\n",
        "* Even though the United States has the most content available, it looks like Netflix has decided to release a ton of international movies."
      ],
      "metadata": {
        "id": "ey_0qi68phqO"
      }
    },
    {
      "cell_type": "markdown",
      "source": [
        "#### Chart - 9"
      ],
      "metadata": {
        "id": "YJ55k-q6phqO"
      }
    },
    {
      "cell_type": "code",
      "source": [
        "# Chart - 9 visualization code\n",
        "import pandas as pd\n",
        "import matplotlib.pyplot as plt\n",
        "import seaborn as sns\n",
        "\n",
        "directors_df = df[df.director != 'Unknown']\n",
        "\n",
        "directors_split = directors_df.set_index('title').director.str.split(', ', expand=True).stack().reset_index(level=1, drop=True)\n",
        "\n",
        "directors_counts = directors_split.value_counts()\n",
        "\n",
        "top_directors = directors_counts.head(10)\n",
        "\n",
        "plt.figure(figsize=(10, 5))\n",
        "plt.stem(top_directors.index, top_directors, markerfmt='ro', linefmt='r-')\n",
        "\n",
        "plt.xlabel('Directors')\n",
        "plt.ylabel('Number of Titles')\n",
        "plt.title('Top 10 Directors on Netflix')\n",
        "\n",
        "plt.xticks(rotation=45, ha='right')\n",
        "\n",
        "plt.show()\n"
      ],
      "metadata": {
        "id": "B2aS4O1ophqO"
      },
      "execution_count": null,
      "outputs": []
    },
    {
      "cell_type": "markdown",
      "source": [
        "##### 1. Why did you pick the specific chart?"
      ],
      "metadata": {
        "id": "gCFgpxoyphqP"
      }
    },
    {
      "cell_type": "markdown",
      "source": [
        "Bar charts are used to compare the size or frequency of different categories or groups of data. Bar charts are useful for comparing data across different categories, and they can be used to display a large amount of data in a small space."
      ],
      "metadata": {
        "id": "TVxDimi2phqP"
      }
    },
    {
      "cell_type": "markdown",
      "source": [
        "##### 2. What is/are the insight(s) found from the chart?"
      ],
      "metadata": {
        "id": "OVtJsKN_phqQ"
      }
    },
    {
      "cell_type": "markdown",
      "source": [
        "From the above chart we come to know that the most popular director in netflix is Jan Sutar and followed by Raúl Campos and Marcus Raboy."
      ],
      "metadata": {
        "id": "ngGi97qjphqQ"
      }
    },
    {
      "cell_type": "markdown",
      "source": [
        "##### 3. Will the gained insights help creating a positive business impact?\n",
        "Are there any insights that lead to negative growth? Justify with specific reason."
      ],
      "metadata": {
        "id": "lssrdh5qphqQ"
      }
    },
    {
      "cell_type": "markdown",
      "source": [
        "From the above insight we got to know:\n",
        "* Jan Suter, Raúl Campos, Marcus Raboy, Jay Karas, Cathy Garcia-Molina, Jay Chapman are the top 5 directors which highest number of movies and tv shows are available in netflix.\n",
        "* As we stated previously regarding the top genres, it's no surprise that the most popular directors on Netflix with the most titles are mainly international as well."
      ],
      "metadata": {
        "id": "tBpY5ekJphqQ"
      }
    },
    {
      "cell_type": "markdown",
      "source": [
        "#### Chart - 10"
      ],
      "metadata": {
        "id": "U2RJ9gkRphqQ"
      }
    },
    {
      "cell_type": "code",
      "source": [
        "# Chart - 10 visualization code\n",
        "actor = df[df.cast != 'Not available'].set_index('title').cast.str.split(', ', expand=True).stack().reset_index(level=1, drop=True)\n",
        "\n",
        "actor_counts = actor.value_counts()\n",
        "actor_average_counts = actor_counts / actor_counts.nunique()\n",
        "\n",
        "sorted_actors = actor_average_counts.sort_values(ascending=False).index[:10]\n",
        "\n",
        "plt.figure(figsize=(10, 5))\n",
        "sns.barplot(y=sorted_actors, x=actor_average_counts[sorted_actors], palette='Reds_r')\n",
        "plt.title('Average Movie or Series Count per Actor on Netflix')\n",
        "plt.xlabel('Average Count')\n",
        "plt.ylabel('Actor')\n",
        "plt.show()\n"
      ],
      "metadata": {
        "id": "GM7a4YP4phqQ"
      },
      "execution_count": null,
      "outputs": []
    },
    {
      "cell_type": "markdown",
      "source": [
        "##### 1. Why did you pick the specific chart?"
      ],
      "metadata": {
        "id": "1M8mcRywphqQ"
      }
    },
    {
      "cell_type": "markdown",
      "source": [
        "Bar charts are used to compare the size or frequency of different categories or groups of data. Bar charts are useful for comparing data across different categories, and they can be used to display a large amount of data in a small space."
      ],
      "metadata": {
        "id": "8agQvks0phqQ"
      }
    },
    {
      "cell_type": "markdown",
      "source": [
        "##### 2. What is/are the insight(s) found from the chart?"
      ],
      "metadata": {
        "id": "tgIPom80phqQ"
      }
    },
    {
      "cell_type": "markdown",
      "source": [
        "From above graph, it is observed that most popular actors with most content in netflix are Anupam Kher, Shah Rukh Khan, Naseeruddin Shah and followed by Om Puri and Takahiro Sakurai."
      ],
      "metadata": {
        "id": "Qp13pnNzphqQ"
      }
    },
    {
      "cell_type": "markdown",
      "source": [
        "##### 3. Will the gained insights help creating a positive business impact?\n",
        "Are there any insights that lead to negative growth? Justify with specific reason."
      ],
      "metadata": {
        "id": "JMzcOPDDphqR"
      }
    },
    {
      "cell_type": "markdown",
      "source": [
        "From the above insight we got to know:\n",
        "*  That the actors in the top ten list of most numbers tv shows and movies are from India.\n",
        "*  Anupam Kher and Shah Rukh Khan have 30 above content alone in netflix.\n",
        "\n"
      ],
      "metadata": {
        "id": "R4Ka1PC2phqR"
      }
    },
    {
      "cell_type": "markdown",
      "source": [
        "#### Chart - 11"
      ],
      "metadata": {
        "id": "x-EpHcCOp1ci"
      }
    },
    {
      "cell_type": "code",
      "source": [
        "# Chart - 11 visualization code\n",
        "corr_matrix = df.corr()\n",
        "plt.figure(figsize=(14,7))\n",
        "sns.heatmap(corr_matrix, annot=True, cmap='Reds_r')\n",
        "\n",
        "plt.title('Correlation Matrix heatmap')\n",
        "\n",
        "plt.show()\n"
      ],
      "metadata": {
        "id": "mAQTIvtqp1cj"
      },
      "execution_count": null,
      "outputs": []
    },
    {
      "cell_type": "markdown",
      "source": [
        "##### 1. Why did you pick the specific chart?"
      ],
      "metadata": {
        "id": "X_VqEhTip1ck"
      }
    },
    {
      "cell_type": "markdown",
      "source": [
        "The correlation coefficient is a measure of the strength and direction of a linear relationship between two variables. A correlation matrix is used to summarize the relationships among a set of variables and is an important tool for data exploration and for selecting which variables to include in a model. The range of correlation is [-1,1].\n",
        "\n",
        "Thus to know the correlation between all the variables along with the correlation coeficients, we have used correlation heatmap."
      ],
      "metadata": {
        "id": "-vsMzt_np1ck"
      }
    },
    {
      "cell_type": "markdown",
      "source": [
        "##### 2. What is/are the insight(s) found from the chart?"
      ],
      "metadata": {
        "id": "8zGJKyg5p1ck"
      }
    },
    {
      "cell_type": "markdown",
      "source": [
        "Since there is only one value in dataframe of int type, we are unable to visualize the Correlation Matrix heatmap."
      ],
      "metadata": {
        "id": "ZYdMsrqVp1ck"
      }
    },
    {
      "cell_type": "markdown",
      "source": [
        "#### Chart - 12"
      ],
      "metadata": {
        "id": "n3dbpmDWp1ck"
      }
    },
    {
      "cell_type": "code",
      "source": [
        "# Chart - 12 visualization code\n",
        "sns.pairplot(df, diag_kind=\"kde\", kind = 'reg')\n",
        "\n",
        "# Display Chart\n",
        "plt.show()"
      ],
      "metadata": {
        "id": "bwevp1tKp1ck"
      },
      "execution_count": null,
      "outputs": []
    },
    {
      "cell_type": "markdown",
      "source": [
        "##### 1. Why did you pick the specific chart?"
      ],
      "metadata": {
        "id": "ylSl6qgtp1ck"
      }
    },
    {
      "cell_type": "markdown",
      "source": [
        "A pairplot, also known as a scatterplot matrix, is a visualization that allows you to visualize the relationships between all pairs of variables in a dataset. It is a useful tool for data exploration because it allows you to quickly see how all of the variables in a dataset are related to one another.\n",
        "\n",
        "Thus, we used pair plot to analyse the patterns of data and relationship between the features. It's exactly same as the correlation map but here you will get the graphical representation."
      ],
      "metadata": {
        "id": "m2xqNkiQp1ck"
      }
    },
    {
      "cell_type": "markdown",
      "source": [
        "##### 2. What is/are the insight(s) found from the chart?"
      ],
      "metadata": {
        "id": "ZWILFDl5p1ck"
      }
    },
    {
      "cell_type": "markdown",
      "source": [
        "Since there is only one value in dataframe of integer type, we are unable to visualize the pair plot."
      ],
      "metadata": {
        "id": "x-lUsV2mp1ck"
      }
    },
    {
      "cell_type": "markdown",
      "source": [
        "## **5. Solution to Business Objective**"
      ],
      "metadata": {
        "id": "JcMwzZxoAimU"
      }
    },
    {
      "cell_type": "markdown",
      "source": [
        "#### What do you suggest the client to achieve Business Objective ?\n",
        "Explain Briefly."
      ],
      "metadata": {
        "id": "8G2x9gOozGDZ"
      }
    },
    {
      "cell_type": "markdown",
      "source": [
        "To achieve the business objective of enhancing user engagement and satisfaction on the Netflix platform through improved content recommendations, I propose implementing a clustering-based recommendation system. This system will leverage machine learning algorithms to group similar movies and TV shows together based on user preferences, viewing history, and content features."
      ],
      "metadata": {
        "id": "pASKb0qOza21"
      }
    },
    {
      "cell_type": "markdown",
      "source": [
        "# **Conclusion**"
      ],
      "metadata": {
        "id": "gCX9965dhzqZ"
      }
    },
    {
      "cell_type": "markdown",
      "source": [
        "In conclusion, the Netflix Movies and TV Shows Clustering project successfully employed advanced machine learning techniques to categorize and organize the vast array of content available on the platform. Through the application of clustering algorithms, we were able to group similar movies and TV shows based on various features such as genre, rating, and viewer preferences.\n",
        "\n",
        "This clustering approach not only enhances the user experience by providing more personalized recommendations but also aids content creators and platform administrators in understanding patterns and trends within their library. The project highlights the potential of machine learning in optimizing content delivery and user engagement in streaming services.\n",
        "\n",
        "As technology continues to evolve, future iterations of this project could explore more sophisticated algorithms, incorporate additional features, and leverage user feedback for even more accurate and dynamic clustering. Ultimately, the Netflix Movies and TV Shows Clustering project underscores the power of data-driven approaches in revolutionizing how we explore and enjoy entertainment in the digital age."
      ],
      "metadata": {
        "id": "Fjb1IsQkh3yE"
      }
    },
    {
      "cell_type": "markdown",
      "source": [
        "### ***Hurrah! You have successfully completed your EDA Capstone Project !!!***"
      ],
      "metadata": {
        "id": "gIfDvo9L0UH2"
      }
    }
  ]
}